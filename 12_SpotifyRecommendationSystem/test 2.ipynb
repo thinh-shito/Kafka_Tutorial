{
 "cells": [
  {
   "cell_type": "code",
   "execution_count": 2,
   "metadata": {},
   "outputs": [],
   "source": [
    "import pandas as pd\n",
    "import numpy as np\n",
    "\n",
    "rec_df = pd.read_csv('rec_song.csv')"
   ]
  },
  {
   "cell_type": "code",
   "execution_count": 14,
   "metadata": {},
   "outputs": [
    {
     "data": {
      "text/html": [
       "<div>\n",
       "<style scoped>\n",
       "    .dataframe tbody tr th:only-of-type {\n",
       "        vertical-align: middle;\n",
       "    }\n",
       "\n",
       "    .dataframe tbody tr th {\n",
       "        vertical-align: top;\n",
       "    }\n",
       "\n",
       "    .dataframe thead th {\n",
       "        text-align: right;\n",
       "    }\n",
       "</style>\n",
       "<table border=\"1\" class=\"dataframe\">\n",
       "  <thead>\n",
       "    <tr style=\"text-align: right;\">\n",
       "      <th></th>\n",
       "      <th>artists</th>\n",
       "    </tr>\n",
       "  </thead>\n",
       "  <tbody>\n",
       "    <tr>\n",
       "      <th>ElvisPresley</th>\n",
       "      <td>1</td>\n",
       "    </tr>\n",
       "    <tr>\n",
       "      <th>MilesDavisJohnColtrane</th>\n",
       "      <td>1</td>\n",
       "    </tr>\n",
       "    <tr>\n",
       "      <th>CharlieParker</th>\n",
       "      <td>1</td>\n",
       "    </tr>\n",
       "    <tr>\n",
       "      <th>JavierSols</th>\n",
       "      <td>1</td>\n",
       "    </tr>\n",
       "    <tr>\n",
       "      <th>BlossomDearie</th>\n",
       "      <td>1</td>\n",
       "    </tr>\n",
       "    <tr>\n",
       "      <th>DorisDayPaulWestonAndHisOrchestra</th>\n",
       "      <td>1</td>\n",
       "    </tr>\n",
       "    <tr>\n",
       "      <th>CarlPerkins</th>\n",
       "      <td>1</td>\n",
       "    </tr>\n",
       "    <tr>\n",
       "      <th>Avicii</th>\n",
       "      <td>1</td>\n",
       "    </tr>\n",
       "  </tbody>\n",
       "</table>\n",
       "</div>"
      ],
      "text/plain": [
       "                                   artists\n",
       "ElvisPresley                             1\n",
       "MilesDavisJohnColtrane                   1\n",
       "CharlieParker                            1\n",
       "JavierSols                               1\n",
       "BlossomDearie                            1\n",
       "DorisDayPaulWestonAndHisOrchestra        1\n",
       "CarlPerkins                              1\n",
       "Avicii                                   1"
      ]
     },
     "execution_count": 14,
     "metadata": {},
     "output_type": "execute_result"
    }
   ],
   "source": [
    "rec_df['artists'].value_counts()[:11].to_frame()"
   ]
  },
  {
   "cell_type": "code",
   "execution_count": 18,
   "metadata": {},
   "outputs": [],
   "source": [
    "\n",
    "df1 = rec_df['artists'].value_counts()[:11].to_frame()\n",
    "df1['Name'] = df1.index\n",
    "df1.rename(columns={'artists': 'Songs'}, inplace=True)"
   ]
  },
  {
   "cell_type": "code",
   "execution_count": 19,
   "metadata": {},
   "outputs": [
    {
     "data": {
      "text/html": [
       "<div>\n",
       "<style scoped>\n",
       "    .dataframe tbody tr th:only-of-type {\n",
       "        vertical-align: middle;\n",
       "    }\n",
       "\n",
       "    .dataframe tbody tr th {\n",
       "        vertical-align: top;\n",
       "    }\n",
       "\n",
       "    .dataframe thead th {\n",
       "        text-align: right;\n",
       "    }\n",
       "</style>\n",
       "<table border=\"1\" class=\"dataframe\">\n",
       "  <thead>\n",
       "    <tr style=\"text-align: right;\">\n",
       "      <th></th>\n",
       "      <th>Songs</th>\n",
       "      <th>Name</th>\n",
       "    </tr>\n",
       "  </thead>\n",
       "  <tbody>\n",
       "    <tr>\n",
       "      <th>ElvisPresley</th>\n",
       "      <td>1</td>\n",
       "      <td>ElvisPresley</td>\n",
       "    </tr>\n",
       "    <tr>\n",
       "      <th>MilesDavisJohnColtrane</th>\n",
       "      <td>1</td>\n",
       "      <td>MilesDavisJohnColtrane</td>\n",
       "    </tr>\n",
       "    <tr>\n",
       "      <th>CharlieParker</th>\n",
       "      <td>1</td>\n",
       "      <td>CharlieParker</td>\n",
       "    </tr>\n",
       "    <tr>\n",
       "      <th>JavierSols</th>\n",
       "      <td>1</td>\n",
       "      <td>JavierSols</td>\n",
       "    </tr>\n",
       "    <tr>\n",
       "      <th>BlossomDearie</th>\n",
       "      <td>1</td>\n",
       "      <td>BlossomDearie</td>\n",
       "    </tr>\n",
       "    <tr>\n",
       "      <th>DorisDayPaulWestonAndHisOrchestra</th>\n",
       "      <td>1</td>\n",
       "      <td>DorisDayPaulWestonAndHisOrchestra</td>\n",
       "    </tr>\n",
       "    <tr>\n",
       "      <th>CarlPerkins</th>\n",
       "      <td>1</td>\n",
       "      <td>CarlPerkins</td>\n",
       "    </tr>\n",
       "    <tr>\n",
       "      <th>Avicii</th>\n",
       "      <td>1</td>\n",
       "      <td>Avicii</td>\n",
       "    </tr>\n",
       "  </tbody>\n",
       "</table>\n",
       "</div>"
      ],
      "text/plain": [
       "                                   Songs                               Name\n",
       "ElvisPresley                           1                       ElvisPresley\n",
       "MilesDavisJohnColtrane                 1             MilesDavisJohnColtrane\n",
       "CharlieParker                          1                      CharlieParker\n",
       "JavierSols                             1                         JavierSols\n",
       "BlossomDearie                          1                      BlossomDearie\n",
       "DorisDayPaulWestonAndHisOrchestra      1  DorisDayPaulWestonAndHisOrchestra\n",
       "CarlPerkins                            1                        CarlPerkins\n",
       "Avicii                                 1                             Avicii"
      ]
     },
     "execution_count": 19,
     "metadata": {},
     "output_type": "execute_result"
    }
   ],
   "source": [
    "df1"
   ]
  },
  {
   "cell_type": "code",
   "execution_count": null,
   "metadata": {},
   "outputs": [],
   "source": []
  }
 ],
 "metadata": {
  "kernelspec": {
   "display_name": "Python 3",
   "language": "python",
   "name": "python3"
  },
  "language_info": {
   "codemirror_mode": {
    "name": "ipython",
    "version": 3
   },
   "file_extension": ".py",
   "mimetype": "text/x-python",
   "name": "python",
   "nbconvert_exporter": "python",
   "pygments_lexer": "ipython3",
   "version": "3.10.8"
  }
 },
 "nbformat": 4,
 "nbformat_minor": 2
}
