{
 "cells": [
  {
   "cell_type": "code",
   "execution_count": 2,
   "metadata": {},
   "outputs": [],
   "source": [
    "from kafka import KafkaProducer\n",
    "from json import dumps\n",
    "from time import sleep\n",
    "\n",
    "TOPIC_NAME = 'RandomNumber'\n",
    "KAFKA_SERVER = 'localhost:9092'\n",
    "producer = KafkaProducer(bootstrap_servers=KAFKA_SERVER,\n",
    "                         value_serializer = lambda x:dumps(x).encode('utf-8'))\n",
    "for e in range(1000):\n",
    "    data = {'number' : e}\n",
    "    producer.send(TOPIC_NAME, value=data)\n",
    "    sleep(5)\n",
    " \n",
    "producer.flush()\n"
   ]
  },
  {
   "cell_type": "code",
   "execution_count": null,
   "metadata": {},
   "outputs": [],
   "source": []
  }
 ],
 "metadata": {
  "kernelspec": {
   "display_name": "Python 3",
   "language": "python",
   "name": "python3"
  },
  "language_info": {
   "codemirror_mode": {
    "name": "ipython",
    "version": 3
   },
   "file_extension": ".py",
   "mimetype": "text/x-python",
   "name": "python",
   "nbconvert_exporter": "python",
   "pygments_lexer": "ipython3",
   "version": "3.10.8"
  }
 },
 "nbformat": 4,
 "nbformat_minor": 2
}
